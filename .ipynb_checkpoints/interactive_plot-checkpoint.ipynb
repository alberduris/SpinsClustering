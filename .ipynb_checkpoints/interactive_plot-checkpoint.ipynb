{
 "cells": [
  {
   "cell_type": "markdown",
   "metadata": {},
   "source": [
    "## Load the Data from Analysis"
   ]
  },
  {
   "cell_type": "code",
   "execution_count": 1,
   "metadata": {},
   "outputs": [],
   "source": [
    "import pickle\n",
    "\n",
    "df = pickle.load(open(\"plot_data/df_spins.p\", \"rb\"))\n",
    "\n",
    "X_embedded = pickle.load(open(\"plot_data/X_embedded.p\", \"rb\"))\n",
    "\n",
    "y_pred = pickle.load(open(\"plot_data/y_pred.p\", \"rb\"))"
   ]
  },
  {
   "cell_type": "code",
   "execution_count": 2,
   "metadata": {},
   "outputs": [
    {
     "name": "stdout",
     "output_type": "stream",
     "text": [
      "<class 'pandas.core.frame.DataFrame'>\n",
      "Int64Index: 16491 entries, 0 to 17999\n",
      "Data columns (total 2 columns):\n",
      " #   Column      Non-Null Count  Dtype \n",
      "---  ------      --------------  ----- \n",
      " 0   text        16491 non-null  object\n",
      " 1   word_count  16491 non-null  int64 \n",
      "dtypes: int64(1), object(1)\n",
      "memory usage: 386.5+ KB\n"
     ]
    }
   ],
   "source": [
    "df.info()"
   ]
  },
  {
   "cell_type": "markdown",
   "metadata": {},
   "source": [
    "## Load the Keywords per Cluster"
   ]
  },
  {
   "cell_type": "code",
   "execution_count": 3,
   "metadata": {},
   "outputs": [],
   "source": [
    "import os\n",
    "\n",
    "topic_path = os.path.join(os.getcwd(), 'lib', 'topics.txt')\n",
    "with open(topic_path) as f:\n",
    "    topics = f.readlines()"
   ]
  },
  {
   "cell_type": "markdown",
   "metadata": {},
   "source": [
    "## Bokeh Libraries and Object Needed\n",
    "Some of the object are under the folder '/lib'"
   ]
  },
  {
   "cell_type": "code",
   "execution_count": 4,
   "metadata": {},
   "outputs": [
    {
     "ename": "ImportError",
     "evalue": "cannot import name 'description_search'",
     "output_type": "error",
     "traceback": [
      "\u001b[0;31m---------------------------------------------------------------------------\u001b[0m",
      "\u001b[0;31mImportError\u001b[0m                               Traceback (most recent call last)",
      "\u001b[0;32m<ipython-input-4-5d168cbea65e>\u001b[0m in \u001b[0;36m<module>\u001b[0;34m\u001b[0m\n\u001b[0;32m----> 1\u001b[0;31m \u001b[0;32mfrom\u001b[0m \u001b[0mlib\u001b[0m\u001b[0;34m.\u001b[0m\u001b[0mplot_text\u001b[0m \u001b[0;32mimport\u001b[0m \u001b[0mheader\u001b[0m\u001b[0;34m,\u001b[0m \u001b[0mdescription\u001b[0m\u001b[0;34m,\u001b[0m \u001b[0mdescription2\u001b[0m\u001b[0;34m,\u001b[0m \u001b[0mcite\u001b[0m\u001b[0;34m,\u001b[0m \u001b[0mdescription_search\u001b[0m\u001b[0;34m,\u001b[0m \u001b[0mdescription_slider\u001b[0m\u001b[0;34m,\u001b[0m \u001b[0mnotes\u001b[0m\u001b[0;34m,\u001b[0m \u001b[0mdataset_description\u001b[0m\u001b[0;34m,\u001b[0m \u001b[0mtoolbox_header\u001b[0m\u001b[0;34m\u001b[0m\u001b[0m\n\u001b[0m\u001b[1;32m      2\u001b[0m \u001b[0;32mfrom\u001b[0m \u001b[0mlib\u001b[0m\u001b[0;34m.\u001b[0m\u001b[0mcall_backs\u001b[0m \u001b[0;32mimport\u001b[0m \u001b[0minput_callback\u001b[0m\u001b[0;34m\u001b[0m\u001b[0m\n\u001b[1;32m      3\u001b[0m \u001b[0;32mfrom\u001b[0m \u001b[0mbokeh\u001b[0m\u001b[0;34m.\u001b[0m\u001b[0mmodels\u001b[0m \u001b[0;32mimport\u001b[0m \u001b[0mColumnDataSource\u001b[0m\u001b[0;34m,\u001b[0m \u001b[0mHoverTool\u001b[0m\u001b[0;34m,\u001b[0m \u001b[0mLinearColorMapper\u001b[0m\u001b[0;34m,\u001b[0m \u001b[0mCustomJS\u001b[0m\u001b[0;34m,\u001b[0m \u001b[0mSlider\u001b[0m\u001b[0;34m\u001b[0m\u001b[0m\n\u001b[1;32m      4\u001b[0m \u001b[0;32mfrom\u001b[0m \u001b[0mbokeh\u001b[0m\u001b[0;34m.\u001b[0m\u001b[0mpalettes\u001b[0m \u001b[0;32mimport\u001b[0m \u001b[0mCategory20\u001b[0m\u001b[0;34m\u001b[0m\u001b[0m\n\u001b[1;32m      5\u001b[0m \u001b[0;32mfrom\u001b[0m \u001b[0mbokeh\u001b[0m\u001b[0;34m.\u001b[0m\u001b[0mtransform\u001b[0m \u001b[0;32mimport\u001b[0m \u001b[0mlinear_cmap\u001b[0m\u001b[0;34m,\u001b[0m \u001b[0mtransform\u001b[0m\u001b[0;34m\u001b[0m\u001b[0m\n",
      "\u001b[0;31mImportError\u001b[0m: cannot import name 'description_search'"
     ]
    }
   ],
   "source": [
    "from lib.plot_text import header, description, description2, cite, description_search, description_slider, notes, dataset_description, toolbox_header\n",
    "from lib.call_backs import input_callback\n",
    "from bokeh.models import ColumnDataSource, HoverTool, LinearColorMapper, CustomJS, Slider\n",
    "from bokeh.palettes import Category20\n",
    "from bokeh.transform import linear_cmap, transform\n",
    "from bokeh.io import output_file, show, output_notebook\n",
    "from bokeh.plotting import figure\n",
    "from bokeh.models import RadioButtonGroup, TextInput, Div, Paragraph\n",
    "from bokeh.layouts import column, widgetbox, row, layout"
   ]
  },
  {
   "cell_type": "markdown",
   "metadata": {},
   "source": [
    "## Setup the Interactive Plot"
   ]
  },
  {
   "cell_type": "code",
   "execution_count": 5,
   "metadata": {
    "scrolled": true
   },
   "outputs": [
    {
     "ename": "NameError",
     "evalue": "name 'output_notebook' is not defined",
     "output_type": "error",
     "traceback": [
      "\u001b[0;31m---------------------------------------------------------------------------\u001b[0m",
      "\u001b[0;31mNameError\u001b[0m                                 Traceback (most recent call last)",
      "\u001b[0;32m<ipython-input-5-c4efffb1b120>\u001b[0m in \u001b[0;36m<module>\u001b[0;34m\u001b[0m\n\u001b[1;32m      1\u001b[0m \u001b[0;31m# show on notebook\u001b[0m\u001b[0;34m\u001b[0m\u001b[0;34m\u001b[0m\u001b[0m\n\u001b[0;32m----> 2\u001b[0;31m \u001b[0moutput_notebook\u001b[0m\u001b[0;34m(\u001b[0m\u001b[0;34m)\u001b[0m\u001b[0;34m\u001b[0m\u001b[0m\n\u001b[0m\u001b[1;32m      3\u001b[0m \u001b[0;31m# target labels\u001b[0m\u001b[0;34m\u001b[0m\u001b[0;34m\u001b[0m\u001b[0m\n\u001b[1;32m      4\u001b[0m \u001b[0my_labels\u001b[0m \u001b[0;34m=\u001b[0m \u001b[0my_pred\u001b[0m\u001b[0;34m\u001b[0m\u001b[0m\n\u001b[1;32m      5\u001b[0m \u001b[0;34m\u001b[0m\u001b[0m\n",
      "\u001b[0;31mNameError\u001b[0m: name 'output_notebook' is not defined"
     ]
    }
   ],
   "source": [
    "# show on notebook\n",
    "output_notebook()\n",
    "# target labels\n",
    "y_labels = y_pred\n",
    "\n",
    "# data sources\n",
    "source = ColumnDataSource(data=dict(\n",
    "    x= X_embedded[:,0], \n",
    "    y= X_embedded[:,1],\n",
    "    x_backup = X_embedded[:,0],\n",
    "    y_backup = X_embedded[:,1],\n",
    "    desc= y_labels, \n",
    "    text= df['text'],\n",
    "    labels = [\"C-\" + str(x) for x in y_labels]\n",
    "    ))\n",
    "\n",
    "# hover over information\n",
    "hover = HoverTool(tooltips=[\n",
    "    (\"Text\", \"@text{safe}\"),\n",
    "],\n",
    "point_policy=\"follow_mouse\")\n",
    "\n",
    "# map colors\n",
    "mapper = linear_cmap(field_name='desc', \n",
    "                     palette=Category20[15],\n",
    "                     low=min(y_labels) ,high=max(y_labels))\n",
    "\n",
    "# prepare the figure\n",
    "plot = figure(plot_width=1200, plot_height=850, \n",
    "           tools=[hover, 'pan', 'wheel_zoom', 'box_zoom', 'reset', 'save'], \n",
    "           title=\"Clustering of the Spinned Sentences with t-SNE and K-Means\", \n",
    "           toolbar_location=\"above\")\n",
    "\n",
    "# plot settings\n",
    "plot.scatter('x', 'y', size=5, \n",
    "          source=source,\n",
    "          fill_color=mapper,\n",
    "          line_alpha=0.3,\n",
    "          line_color=\"black\",\n",
    "          legend_label = 'labels')\n",
    "plot.legend.background_fill_alpha = 0.6\n",
    "\n",
    "\n",
    "# get the JS callback objects to handle user interactions\n",
    "text_banner = Paragraph(text= 'Keywords: Slide to specific cluster to see the keywords. ', height=45)\n",
    "input_callback_1 = input_callback(plot, source, text_banner, topics)\n",
    "\n",
    "# WIDGETS\n",
    "slider = Slider(start=0, end=15, value=15, step=1, title=\"Cluster #\")\n",
    "keyword = TextInput(title=\"Search:\")\n",
    "\n",
    "# pass call back arguments\n",
    "input_callback_1.args[\"text\"] = keyword\n",
    "input_callback_1.args[\"slider\"] = slider\n",
    "# column(,,widgetbox(keyword),,widgetbox(slider),, notes, cite, cite2, cite3), plot\n",
    "\n",
    "# STYLE\n",
    "header.sizing_mode = \"stretch_width\"\n",
    "header.style={'color': '#2e484c', 'font-family': 'Julius Sans One, sans-serif;'}\n",
    "header.margin=5\n",
    "\n",
    "description.style ={'font-family': 'Helvetica Neue, Helvetica, Arial, sans-serif;', 'font-size': '1.1em'}\n",
    "description.sizing_mode = \"stretch_width\"\n",
    "description.margin = 5\n",
    "\n",
    "description2.sizing_mode = \"stretch_width\"\n",
    "description2.style ={'font-family': 'Helvetica Neue, Helvetica, Arial, sans-serif;', 'font-size': '1.1em'}\n",
    "description2.margin=10\n",
    "\n",
    "description_slider.style ={'font-family': 'Helvetica Neue, Helvetica, Arial, sans-serif;', 'font-size': '1.1em'}\n",
    "description_slider.sizing_mode = \"stretch_width\"\n",
    "\n",
    "description_search.style ={'font-family': 'Helvetica Neue, Helvetica, Arial, sans-serif;', 'font-size': '1.1em'}\n",
    "description_search.sizing_mode = \"stretch_width\"\n",
    "description_search.margin = 5\n",
    "\n",
    "slider.sizing_mode = \"stretch_width\"\n",
    "slider.margin=15\n",
    "\n",
    "keyword.sizing_mode = \"stretch_width\"\n",
    "keyword.margin=15\n",
    "\n",
    "text_banner.style={'color': '#0269A4', 'font-family': 'Helvetica Neue, Helvetica, Arial, sans-serif;', 'font-size': '1.1em'}\n",
    "text_banner.sizing_mode = \"stretch_width\"\n",
    "text_banner.margin = 5\n",
    "\n",
    "plot.sizing_mode = \"scale_both\"\n",
    "plot.margin = 5\n",
    "\n",
    "dataset_description.sizing_mode = \"stretch_width\"\n",
    "dataset_description.style ={'font-family': 'Helvetica Neue, Helvetica, Arial, sans-serif;', 'font-size': '1.1em'}\n",
    "dataset_description.margin=10\n",
    "\n",
    "notes.sizing_mode = \"stretch_width\"\n",
    "notes.style ={'font-family': 'Helvetica Neue, Helvetica, Arial, sans-serif;', 'font-size': '1.1em'}\n",
    "notes.margin=10\n",
    "\n",
    "cite.sizing_mode = \"stretch_width\"\n",
    "cite.style ={'font-family': 'Helvetica Neue, Helvetica, Arial, sans-serif;', 'font-size': '1.1em'}\n",
    "cite.margin=10\n",
    "\n",
    "# LAYOUT OF THE PAGE\n",
    "l = layout([\n",
    "    [header],\n",
    "    [description],\n",
    "    [description_slider, description_search],\n",
    "    [slider, keyword],\n",
    "    [text_banner],\n",
    "    [plot],\n",
    "    [description2, dataset_description, notes, cite],\n",
    "])\n",
    "l.sizing_mode = \"scale_both\"\n",
    "\n",
    "\n",
    "# show\n",
    "output_file('plots/t-sne_spins_interactive.html')\n",
    "show(l)"
   ]
  },
  {
   "cell_type": "code",
   "execution_count": null,
   "metadata": {},
   "outputs": [],
   "source": []
  }
 ],
 "metadata": {
  "kernelspec": {
   "display_name": "Python 3",
   "language": "python",
   "name": "python3"
  },
  "language_info": {
   "codemirror_mode": {
    "name": "ipython",
    "version": 3
   },
   "file_extension": ".py",
   "mimetype": "text/x-python",
   "name": "python",
   "nbconvert_exporter": "python",
   "pygments_lexer": "ipython3",
   "version": "3.6.3"
  }
 },
 "nbformat": 4,
 "nbformat_minor": 4
}
